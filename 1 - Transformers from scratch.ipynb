{
 "cells": [
  {
   "cell_type": "code",
   "execution_count": 1,
   "metadata": {},
   "outputs": [],
   "source": [
    "import tensorflow as tf\n",
    "from tensorflow.keras.layers import Dense, Embedding, GlobalAveragePooling1D, Dropout\n",
    "from tensorflow.keras.models import Model\n",
    "import numpy as np\n",
    "import matplotlib.pyplot as plt\n",
    "import numpy as np\n",
    "import pandas as pd\n",
    "import seaborn as sns\n",
    "from sklearn.preprocessing import LabelEncoder"
   ]
  },
  {
   "cell_type": "code",
   "execution_count": 2,
   "metadata": {},
   "outputs": [],
   "source": [
    "devices = tf.config.experimental.list_physical_devices(\"GPU\")\n",
    "for device in devices:\n",
    "    tf.config.experimental.set_memory_growth(device=device, enable=True)"
   ]
  },
  {
   "cell_type": "code",
   "execution_count": 3,
   "metadata": {},
   "outputs": [],
   "source": [
    "dataset = pd.read_csv(\"IMDB Dataset.csv\")\n",
    "train_dataset, test_dataset = dataset[:40000], dataset[40000:]"
   ]
  },
  {
   "cell_type": "code",
   "execution_count": 4,
   "metadata": {},
   "outputs": [],
   "source": [
    "X_train, y_train = train_dataset[\"review\"].to_numpy(), train_dataset[\"sentiment\"].to_numpy()\n",
    "X_test, y_test = test_dataset[\"review\"].to_numpy(), test_dataset[\"sentiment\"].to_numpy()"
   ]
  },
  {
   "cell_type": "code",
   "execution_count": 5,
   "metadata": {},
   "outputs": [],
   "source": [
    "max_len = 256  # Maximum sequence length\n",
    "embedding_dim = 64  # Dimension of word embeddings\n",
    "attention_units = 16  # Attention units for self-attention mechanism\n",
    "num_classes = 2  # Number of output classes (e.g., positive and negative)"
   ]
  },
  {
   "cell_type": "code",
   "execution_count": 6,
   "metadata": {},
   "outputs": [],
   "source": [
    "class SelfAttention(tf.keras.layers.Layer):\n",
    "    def __init__(self, attention_units):\n",
    "        super(SelfAttention, self).__init__()\n",
    "        self.attention_units = attention_units\n",
    "\n",
    "    def build(self, input_shape):\n",
    "        self.WQ = self.add_weight(shape=(input_shape[-1], self.attention_units),\n",
    "                                  initializer='glorot_uniform',\n",
    "                                  trainable=True)\n",
    "        self.WK = self.add_weight(shape=(input_shape[-1], self.attention_units),\n",
    "                                  initializer='glorot_uniform',\n",
    "                                  trainable=True)\n",
    "        self.WV = self.add_weight(shape=(input_shape[-1], self.attention_units),\n",
    "                                  initializer='glorot_uniform',\n",
    "                                  trainable=True)\n",
    "\n",
    "    def call(self, inputs):\n",
    "        Q = tf.matmul(inputs, self.WQ)\n",
    "        K = tf.matmul(inputs, self.WK)\n",
    "        V = tf.matmul(inputs, self.WV)\n",
    "\n",
    "        d_k = tf.cast(tf.shape(K)[-1], tf.float32)\n",
    "        attention_weights = tf.nn.softmax(tf.matmul(Q, K, transpose_b=True)/tf.math.sqrt(d_k), axis=-1)\n",
    "        output = tf.matmul(attention_weights, V)\n",
    "\n",
    "        return output, attention_weights"
   ]
  },
  {
   "cell_type": "code",
   "execution_count": 7,
   "metadata": {},
   "outputs": [],
   "source": [
    "class SentimentClassifier(tf.keras.Model):\n",
    "    def __init__(self, vocab_size, max_len, embedding_dim, attention_units, num_classes):\n",
    "        super(SentimentClassifier, self).__init__()\n",
    "        self.embedding = Embedding(vocab_size, embedding_dim, input_length=max_len)\n",
    "        self.positional_encoding = self.positional_encoding(max_len, embedding_dim)\n",
    "        self.attention = SelfAttention(attention_units)\n",
    "        self.global_avg_pool = GlobalAveragePooling1D()\n",
    "        self.dense1 = Dense(256, activation=\"relu\")\n",
    "        self.dropout = Dropout(0.25)\n",
    "        self.dense2 = Dense(num_classes, activation='softmax')\n",
    "\n",
    "    def call(self, inputs):\n",
    "        x = self.embedding(inputs)\n",
    "        x *= tf.math.sqrt(tf.cast(tf.shape(x)[-1], tf.float32))\n",
    "        x += self.positional_encoding[:, :tf.shape(x)[1], :]\n",
    "        output, attention_weights = self.attention(x)\n",
    "        output = self.global_avg_pool(output)\n",
    "        output = self.dense1(output)\n",
    "        output = self.dropout(output)\n",
    "        output = self.dense2(output)\n",
    "\n",
    "        return output, attention_weights\n",
    "\n",
    "    def positional_encoding(self, position, d_model):\n",
    "        angle_rates = 1 / np.power(10000, (2 * (np.arange(d_model)[np.newaxis, :] // 2)) / np.float32(d_model))\n",
    "        angle_rads = np.arange(position)[:, np.newaxis] * angle_rates\n",
    "\n",
    "        # Apply sin to even indices in the array; 2i\n",
    "        angle_rads[:, 0::2] = np.sin(angle_rads[:, 0::2])\n",
    "\n",
    "        # Apply cos to odd indices in the array; 2i+1\n",
    "        angle_rads[:, 1::2] = np.cos(angle_rads[:, 1::2])\n",
    "\n",
    "        pos_encoding = angle_rads[np.newaxis, ...]\n",
    "        return tf.cast(pos_encoding, dtype=tf.float32)"
   ]
  },
  {
   "cell_type": "code",
   "execution_count": 8,
   "metadata": {},
   "outputs": [],
   "source": [
    "tokenizer = tf.keras.preprocessing.text.Tokenizer()\n",
    "tokenizer.fit_on_texts(train_dataset[\"review\"])\n",
    "vocab_size = len(tokenizer.word_index) + 1"
   ]
  },
  {
   "cell_type": "code",
   "execution_count": 9,
   "metadata": {},
   "outputs": [],
   "source": [
    "X_train_tokenized = tokenizer.texts_to_sequences(X_train)\n",
    "X_train_tokenized = tf.keras.preprocessing.sequence.pad_sequences(X_train_tokenized, padding='post', maxlen=max_len)"
   ]
  },
  {
   "cell_type": "code",
   "execution_count": 10,
   "metadata": {},
   "outputs": [],
   "source": [
    "X_test_tokenized = tokenizer.texts_to_sequences(X_test)\n",
    "X_test_tokenized = tf.keras.preprocessing.sequence.pad_sequences(X_test_tokenized, padding='post', maxlen=max_len)"
   ]
  },
  {
   "cell_type": "code",
   "execution_count": 11,
   "metadata": {},
   "outputs": [],
   "source": [
    "encoder = LabelEncoder()\n",
    "y_train_encoded = encoder.fit_transform(y_train)\n",
    "y_test_encoded = encoder.transform(y_test)\n",
    "\n",
    "y_train_encoded = y_train_encoded.astype(np.int64)\n",
    "y_test_encoded = y_test_encoded.astype(np.int64)"
   ]
  },
  {
   "cell_type": "code",
   "execution_count": 12,
   "metadata": {},
   "outputs": [],
   "source": [
    "train_dataset = tf.data.Dataset.from_tensor_slices((X_train_tokenized, y_train_encoded)).batch(64)\n",
    "test_dataset = tf.data.Dataset.from_tensor_slices((X_test_tokenized, y_test_encoded)).batch(32)"
   ]
  },
  {
   "cell_type": "code",
   "execution_count": 13,
   "metadata": {},
   "outputs": [],
   "source": [
    "classifier = SentimentClassifier(vocab_size, max_len, embedding_dim, attention_units, num_classes)"
   ]
  },
  {
   "cell_type": "code",
   "execution_count": 14,
   "metadata": {},
   "outputs": [],
   "source": [
    "loss_fn = tf.keras.losses.SparseCategoricalCrossentropy()\n",
    "optimizer = tf.keras.optimizers.Adam(learning_rate=0.0002)"
   ]
  },
  {
   "cell_type": "code",
   "execution_count": 15,
   "metadata": {},
   "outputs": [
    {
     "name": "stdout",
     "output_type": "stream",
     "text": [
      "Epoch 1/4\n",
      "Step 0/625 - Loss: 0.6955\n",
      "Step 100/625 - Loss: 0.6884\n",
      "Step 200/625 - Loss: 0.5527\n",
      "Step 300/625 - Loss: 0.5187\n",
      "Step 400/625 - Loss: 0.3627\n",
      "Step 500/625 - Loss: 0.3192\n",
      "Step 600/625 - Loss: 0.3254\n",
      "Epoch 2/4\n",
      "Step 0/625 - Loss: 0.2675\n",
      "Step 100/625 - Loss: 0.3448\n",
      "Step 200/625 - Loss: 0.3319\n",
      "Step 300/625 - Loss: 0.3534\n",
      "Step 400/625 - Loss: 0.1855\n",
      "Step 500/625 - Loss: 0.2451\n",
      "Step 600/625 - Loss: 0.2019\n",
      "Epoch 3/4\n",
      "Step 0/625 - Loss: 0.1416\n",
      "Step 100/625 - Loss: 0.1572\n",
      "Step 200/625 - Loss: 0.2467\n",
      "Step 300/625 - Loss: 0.1695\n",
      "Step 400/625 - Loss: 0.1020\n",
      "Step 500/625 - Loss: 0.1541\n",
      "Step 600/625 - Loss: 0.1134\n",
      "Epoch 4/4\n",
      "Step 0/625 - Loss: 0.0722\n",
      "Step 100/625 - Loss: 0.0447\n",
      "Step 200/625 - Loss: 0.1006\n",
      "Step 300/625 - Loss: 0.0640\n",
      "Step 400/625 - Loss: 0.0251\n",
      "Step 500/625 - Loss: 0.1011\n",
      "Step 600/625 - Loss: 0.0229\n"
     ]
    }
   ],
   "source": [
    "epochs = 4\n",
    "for epoch in range(epochs):\n",
    "    print(f\"Epoch {epoch + 1}/{epochs}\")\n",
    "    for step, (x_batch_train, y_batch_train) in enumerate(train_dataset):\n",
    "        with tf.GradientTape() as tape:\n",
    "            logits, _ = classifier(x_batch_train)\n",
    "            loss_value = loss_fn(y_batch_train, logits)\n",
    "\n",
    "        grads = tape.gradient(loss_value, classifier.trainable_weights)\n",
    "        optimizer.apply_gradients(zip(grads, classifier.trainable_weights))\n",
    "\n",
    "        if step % 100 == 0:\n",
    "            print(f\"Step {step}/{len(X_train)//64} - Loss: {loss_value.numpy():.4f}\")\n"
   ]
  },
  {
   "cell_type": "code",
   "execution_count": 16,
   "metadata": {},
   "outputs": [],
   "source": [
    "def visualize_attention_weights(model, inputs, idx, tokenizer):\n",
    "    _, attention_weights = model(inputs)\n",
    "    attention_weights = tf.squeeze(attention_weights, axis=0).numpy()\n",
    "\n",
    "    words = tokenizer.sequences_to_texts(inputs.numpy())[0].split()  # Convert input sequences back to words\n",
    "    print(words)\n",
    "    fig, ax = plt.subplots(figsize=(14, 9))\n",
    "    sns.heatmap(attention_weights[:len(words), :len(words)], cmap='hot', ax=ax, xticklabels=words, yticklabels=words)\n",
    "    ax.set_title(f\"Attention Weights (Sample {idx})\")\n",
    "    plt.xticks(rotation=45, ha='right')\n",
    "    plt.yticks(rotation=0)\n",
    "    plt.show()"
   ]
  },
  {
   "cell_type": "code",
   "execution_count": 17,
   "metadata": {},
   "outputs": [
    {
     "name": "stdout",
     "output_type": "stream",
     "text": [
      "['i', 'hope', 'this', 'group', 'of', 'film', 'makers', 'never', 're', 'unites']\n"
     ]
    },
    {
     "data": {
      "image/png": "[encoded data removed]",
      "text/plain": [
       "<Figure size 1400x900 with 2 Axes>"
      ]
     },
     "metadata": {},
     "output_type": "display_data"
    }
   ],
   "source": [
    "# Visualize attention weights for a sample\n",
    "sample_index = 817\n",
    "sample_input = tf.expand_dims(X_test_tokenized[sample_index], axis=0)\n",
    "visualize_attention_weights(classifier, sample_input, sample_index, tokenizer)"
   ]
  },
  {
   "cell_type": "code",
   "execution_count": 18,
   "metadata": {},
   "outputs": [],
   "source": [
    "def measure_accuracy(model, dataset):\n",
    "    correct_predictions = 0\n",
    "    total_predictions = 0\n",
    "\n",
    "    for x_batch, y_batch in dataset:\n",
    "        logits, _ = model(x_batch)\n",
    "        predicted_labels = tf.argmax(logits, axis=1)\n",
    "        correct_predictions += tf.reduce_sum(tf.cast(tf.equal(predicted_labels, y_batch), dtype=tf.int32))\n",
    "        total_predictions += x_batch.shape[0]\n",
    "\n",
    "    accuracy = correct_predictions / total_predictions\n",
    "\n",
    "    return accuracy"
   ]
  },
  {
   "cell_type": "code",
   "execution_count": 19,
   "metadata": {},
   "outputs": [
    {
     "name": "stdout",
     "output_type": "stream",
     "text": [
      "Training accuracy: 0.994975\n",
      "Test accuracy: 0.8837\n"
     ]
    }
   ],
   "source": [
    "print(f\"Training accuracy: {measure_accuracy(classifier, train_dataset).numpy()}\")\n",
    "print(f\"Test accuracy: {measure_accuracy(classifier, test_dataset).numpy()}\")"
   ]
  },
  {
   "cell_type": "code",
   "execution_count": null,
   "metadata": {},
   "outputs": [],
   "source": []
  }
 ],
 "metadata": {
  "kernelspec": {
   "display_name": "Python 3 (ipykernel)",
   "language": "python",
   "name": "python3"
  },
  "language_info": {
   "codemirror_mode": {
    "name": "ipython",
    "version": 3
   },
   "file_extension": ".py",
   "mimetype": "text/x-python",
   "name": "python",
   "nbconvert_exporter": "python",
   "pygments_lexer": "ipython3",
   "version": "3.10.8"
  }
 },
 "nbformat": 4,
 "nbformat_minor": 2
}
